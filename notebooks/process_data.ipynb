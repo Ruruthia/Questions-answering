{
 "cells": [
  {
   "cell_type": "code",
   "execution_count": 6,
   "metadata": {
    "collapsed": true
   },
   "outputs": [],
   "source": [
    "import pandas as pd\n",
    "from src.auth_key import DEEPL_AUTH_KEY\n",
    "from src.models.translator.model import Translator"
   ]
  },
  {
   "cell_type": "code",
   "execution_count": 2,
   "outputs": [],
   "source": [
    "winter_courses = pd.read_parquet('../data/courses_db/winter_courses.parquet')\n",
    "summer_courses = pd.read_parquet('../data/courses_db/summer_courses.parquet')\n",
    "proposals = pd.read_parquet('../data/courses_db/proposals.parquet')"
   ],
   "metadata": {
    "collapsed": false
   }
  },
  {
   "cell_type": "code",
   "execution_count": 9,
   "outputs": [],
   "source": [
    "print('xD')"
   ],
   "metadata": {
    "collapsed": false
   }
  },
  {
   "cell_type": "code",
   "execution_count": 8,
   "outputs": [],
   "source": [
    "print(DEEPL_AUTH_KEY)"
   ],
   "metadata": {
    "collapsed": false
   }
  },
  {
   "cell_type": "code",
   "execution_count": null,
   "outputs": [],
   "source": [
    "translator = Translator(DEEPL_AUTH_KEY)"
   ],
   "metadata": {
    "collapsed": false
   }
  },
  {
   "cell_type": "code",
   "execution_count": null,
   "outputs": [],
   "source": [
    "def merge_names(pdf, translator):\n",
    "    names = pdf.loc[:, 'name_en'].copy()\n",
    "    names[names == ''] = pd.NA\n",
    "    names_pl = pdf.loc[:, 'name'].copy()\n",
    "    translated_names = [translator.translate(name) for name in names_pl]\n",
    "    names = names.fillna(translated_names)\n",
    "    return names"
   ],
   "metadata": {
    "collapsed": false
   }
  },
  {
   "cell_type": "code",
   "execution_count": null,
   "outputs": [],
   "source": [
    "translated_names = merge_names(winter_courses, translator)"
   ],
   "metadata": {
    "collapsed": false
   }
  }
 ],
 "metadata": {
  "kernelspec": {
   "display_name": "Python 3",
   "language": "python",
   "name": "python3"
  },
  "language_info": {
   "codemirror_mode": {
    "name": "ipython",
    "version": 2
   },
   "file_extension": ".py",
   "mimetype": "text/x-python",
   "name": "python",
   "nbconvert_exporter": "python",
   "pygments_lexer": "ipython2",
   "version": "2.7.6"
  }
 },
 "nbformat": 4,
 "nbformat_minor": 0
}
