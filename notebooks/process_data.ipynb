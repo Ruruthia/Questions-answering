{
 "cells": [
  {
   "cell_type": "code",
   "execution_count": 15,
   "metadata": {
    "collapsed": true
   },
   "outputs": [],
   "source": [
    "import numpy as np\n",
    "import pandas as pd"
   ]
  },
  {
   "cell_type": "code",
   "execution_count": 32,
   "outputs": [],
   "source": [
    "winter_courses = pd.read_parquet('../data/courses_db/winter_courses.parquet')\n",
    "summer_courses = pd.read_parquet('../data/courses_db/summer_courses.parquet')\n",
    "proposals = pd.read_parquet('../data/courses_db/proposals.parquet')"
   ],
   "metadata": {
    "collapsed": false
   }
  },
  {
   "cell_type": "code",
   "execution_count": 33,
   "outputs": [
    {
     "data": {
      "text/plain": "16"
     },
     "execution_count": 33,
     "metadata": {},
     "output_type": "execute_result"
    }
   ],
   "source": [
    "np.sum(summer_courses['name_en'] == '')"
   ],
   "metadata": {
    "collapsed": false,
    "pycharm": {
     "name": "#%%\n"
    }
   }
  },
  {
   "cell_type": "code",
   "execution_count": 34,
   "outputs": [],
   "source": [
    "def remove_unnamed(pdf):\n",
    "    return pdf[pdf['name_en'] != '']\n",
    "\n",
    "def process_dataframe(pdf: pd.DataFrame):\n",
    "    pdf = remove_unnamed(pdf)\n",
    "    pdf = pdf.loc[:, ['name_en', 'points', 'teaching_methods', 'description', 'recommended_for_first_year']]\n",
    "    pdf = pdf.rename(columns={'name_en': 'subject', 'points': 'ects', 'teaching_methods': 'classtype', 'recommended_for_first_year': 'first_year'})\n",
    "    return pdf"
   ],
   "metadata": {
    "collapsed": false,
    "pycharm": {
     "name": "#%%\n"
    }
   }
  },
  {
   "cell_type": "code",
   "execution_count": 35,
   "outputs": [],
   "source": [
    "winter_courses_processed = process_dataframe(winter_courses)\n",
    "summer_courses_processed = process_dataframe(summer_courses)\n",
    "proposals_processed = process_dataframe(proposals)"
   ],
   "metadata": {
    "collapsed": false,
    "pycharm": {
     "name": "#%%\n"
    }
   }
  },
  {
   "cell_type": "code",
   "execution_count": 36,
   "outputs": [
    {
     "data": {
      "text/plain": "                                                subject  ects  \\\n39                                   Project: Coreforge     4   \n66                                   Financial Services     5   \n67          Course: Game Development in Unreal Engine 5     5   \n91         Combinatorial Optimization under uncertainty     6   \n172                                            Tutoring     0   \n200                          Combinatorial optimization     6   \n2056                           Digital Image Processing     6   \n2326                                            Algebra     7   \n2328                            Deep Learning (project)     6   \n2350                            Artificial Intelligence     6   \n2430  From Mordor to Matrix. The Fantastic Political...     3   \n2450                              Professional Practice     4   \n2457                         Mentoring for Data Science     0   \n2458                      Sport programming in practice     2   \n2459                          Clone: Financial Services     3   \n2464                                      Tutoring ISIM     0   \n2468          Seminar: Analysis of algorithmic problems     3   \n2469                             Geometric Optimization     6   \n2475                                    Diploma Project     4   \n2487               Object-oriented Software Development     6   \n2494      Project: Development of the Enrollment System     4   \n2536                      Seminar: Software Engineering     3   \n2615                                      Digital logic     6   \n2620                            Programming methodology     9   \n2626                             Economic Policy Policy     3   \n2633                                         C++ course     5   \n2646                             Numerical Optimization     8   \n2651                     Algorithms and Data Structures     9   \n2652                                       Cryptography     6   \n2653    Neural Networks and Natural Language Processing     6   \n2654                                  Computer networks     6   \n2655                                       Game Testing     6   \n2656   Theoretical Foundations of Programming Languages     6   \n2657                    Advanced Distributed Algorithms     6   \n2658                         Seminar: Computer Graphics     3   \n2659                     Clone: Ethics for the thinking     3   \n2660                                  Scala in Practice     5   \n2661  Design and development of .NET Windows Applica...     5   \n2662                          Seminar: Software Testing     3   \n2663                        Object-oriented programming     6   \n2664                    Design of database applications     5   \n2666                               Advanced Data Mining     6   \n2667                            Ethics for the thinking     5   \n2668                      Warsztaty: Jak założyć firmę?     3   \n2669      Formal Languages and Computational Complexity     9   \n2670                          Introduction to databases     6   \n2671           Curves and Surfaces in Computer Graphics     6   \n2672                        Linux system administration     5   \n2673                         Probability and Statistics     6   \n2674              Computer Architecture for Programmers     8   \n2675       Project: Competitive Artificial Intelligence     4   \n2676  Project: Machine Learning for Temporal Data Mi...     4   \n2677                              Spectral Graph Theory     6   \n\n                                              classtype  \\\n39    analiza kodu źródłowego, prezentacja, projekt ...   \n66                                    Wykład, ćwiczenia   \n67    Wykład, indywidualny lub zespołowy projekt pro...   \n91                                               wykład   \n172                                                       \n200   * Ćwiczenia audytoryjne\\r\\n* Wykład monograficzny   \n2056  * lecture\\r\\n* programming lab\\r\\n* programmin...   \n2326                * Ćwiczenia audytoryjne\\r\\n* Wykład   \n2328                          * projekt programistyczny   \n2350  Wykład, prezentacja, rozwiązywanie zadań z kom...   \n2430                                             Wykład   \n2450    Realizacja zadań postawionych przez pracodawcę.   \n2457                                                      \n2458                                                      \n2459                                  Wykład, ćwiczenia   \n2464                                                      \n2468                                                      \n2469                                                      \n2475  Studenci prezentują wyniki etapów realizacji p...   \n2487  * Pracownia programistyczna\\r\\n* Wykład\\r\\n\\r\\...   \n2494  * Projekt programistyczny\\r\\n* Pracownia progr...   \n2536                      Prepared by students lectures   \n2615  * Ćwiczenia audytoryjne\\r\\n* Pracownia program...   \n2620  wykład, live coding, dyskusja, rozwiązywanie z...   \n2626                                             Wykład   \n2633  Wykład, live coding, analiza programów dostarc...   \n2646  Lecture, problem solving in class, individual ...   \n2651  wykład, rozwiązywanie zadań z komentowaniem, i...   \n2652  wykład, wykład interaktywny, rozwiązywanie zad...   \n2653  * Programming project\\r\\n* Programming laborat...   \n2654  * wykład \\r\\n* ćwiczenia warsztatowe\\r\\n* rozw...   \n2655  wykłady, wykłady interaktywne, nadzorowane roz...   \n2656                            * Wykład\\r\\n* Ćwiczenia   \n2657                * Ćwiczenia audytoryjne\\r\\n* Wykład   \n2658  * samodzielna praca\\r\\n* przygotowanie prezent...   \n2659                                   Wykład, dyskusja   \n2660  * Lectures (theory & live-coding)\\r\\n* Program...   \n2661  * Pracownia programistyczna\\r\\n* Wykład\\r\\n\\r\\...   \n2662  - samodzielny wybór i lektura materiałów,\\r\\n-...   \n2663  * wykład\\r\\n* prezentacja rozwiązań i live cod...   \n2664            * Pracownia programistyczna\\r\\n* Wykład   \n2666  samodzielne czytanie literatury, prezentacja, ...   \n2667                                   Wykład, dyskusja   \n2668                                                      \n2669                                 Wykład i ćwiczenia   \n2670  Wykład, wykład interaktywny, samodzielne rozwi...   \n2671  * wykład,\\r\\n* wykład interaktywny,\\r\\n* ćwicz...   \n2672  * Wykład\\r\\n* Pracownia komputerowa, w tym pre...   \n2673  * Wykład\\r\\n* Rozwiązywanie zadań z komentowan...   \n2674  Wykład, rozwiązywanie zadań z komentowaniem, i...   \n2675  - grupowy projekt programistyczny\\r\\n- prezent...   \n2676  zespołowy projekt programistyczny z elementami...   \n2677                                                      \n\n                                            description  first_year  \n39    Celem projektu jest praktyczna nauka architekt...       False  \n66    **Przedmiot prowadzony przez dr hab., prof. UW...       False  \n67    W przeciwieństwie do kursu Unity nie będę omaw...       False  \n91    Rozważmy portal randkowy (nie tinder), w który...       False  \n172   Celem tutoringu jest czuwanie nad właściwą org...        True  \n200   **Program:**\\r\\n\\r\\n1.Matchingi.\\r\\n\\r\\nMatchi...       False  \n2056  Przedmiot może się odbyć w języku polskim lub ...       False  \n2326  **Program:**\\r\\n\\r\\n1. Przestrzenie liniowe. Z...        True  \n2328  Celem projektu jest doskonalenie umiejętności ...       False  \n2350  Sztuczna inteligencja jest dziedziną budzącą e...       False  \n2430  * Przedmiot prowadzony przez dr. hab Bartosza ...        True  \n2450  Zaliczenie praktyki zawodowej jest wymagane do...       False  \n2457  A series of meetings with a teacher designated...       False  \n2458  Na zajęciach studenci będą rozwiązywali zadani...       False  \n2459  **Przedmiot prowadzony przez dr hab., prof. UW...       False  \n2464  Celem tutoringu jest czuwanie nad właściwą org...        True  \n2468  Uwaga: seminarium planujemy prowadzić (pod tak...        True  \n2469  The course will be given by Sandip Banerjee.\\r...       False  \n2475  W ramach przedmiotu studenci przygotowują prac...       False  \n2487  Wykład skierowany jest do przyszłych architekt...       False  \n2494  W ramach projektu grupa studentów rozwija istn...       False  \n2536  During Seminar Software Engineering Students  ...       False  \n2615  Wykład jest wprowadzeniem do projektowania ukł...        True  \n2620  Naszym celem jest przygotowanie studentów do u...        True  \n2626  *Przedmiot prowadzony przez dr. Mirosława Stru...       False  \n2633  **C++** to język programowania o charakterze o...        True  \n2646  _Mandatory course for Data Science._\\r\\n\\r\\nTh...       False  \n2651  Zajęcia do przedmiotu prowadzone są razem z za...       False  \n2652  **Cel zajęć:**\\r\\n\\r\\nCelem wykładu jest zapoz...       False  \n2653  Neural Networks allow creation of programs tha...       False  \n2654  Wykład jest wstępem do szerokiej tematyki siec...       False  \n2655  Nie naprawimy ułomności natury ludzkiej. Progr...       False  \n2656  Programy i języki programowania (funkcyjne) bę...       False  \n2657  Obliczenia rozproszone stanowią obecnie natura...       False  \n2658  Celem seminarium jest przegląd ciekawszych pra...       False  \n2659  Na co dzień etyka nie jest ci potrzebna. Wiesz...       False  \n2660  Scala is currently one of the most popular pro...       False  \n2661  Celem wykładu jest przedstawienie systemu oper...       False  \n2662  Seminarium dotyczy metod, technik, norm, narzę...       False  \n2663  Celem zajęć jest poznanie jednego z najpowszec...        True  \n2664  Dobrze zaprojektowana aplikacja przetwarzająca...       False  \n2666  _**UWAGA**: W przypadku takiej konieczności, w...       False  \n2667  Na co dzień etyka nie jest ci potrzebna. Wiesz...       False  \n2668  Zajęcia będą miały formę warsztatów. Uczestnic...       False  \n2669  Program przedmiotu obejmuje zagadnienia związa...       False  \n2670  Celem wykładu jest omówienie zasad konstrukcji...       False  \n2671  Krzywe i powierzchnie to podstawowe obiekty gr...       False  \n2672  Celem kursu jest rozwinięcie u uczestników pra...       False  \n2673  **Program:**\\r\\n\\r\\n  1. Pojęcie prawdopodobie...       False  \n2674  Celem przedmiotu jest wprowadzenie słuchaczy d...       False  \n2675  W ramach projektu, kilkuosobowe grupy będą pro...       False  \n2676  Celem projektu jest opracowanie/wykorzystanie/...       False  \n2677  We would explore the field of Spectral Graph T...       False  ",
      "text/html": "<div>\n<style scoped>\n    .dataframe tbody tr th:only-of-type {\n        vertical-align: middle;\n    }\n\n    .dataframe tbody tr th {\n        vertical-align: top;\n    }\n\n    .dataframe thead th {\n        text-align: right;\n    }\n</style>\n<table border=\"1\" class=\"dataframe\">\n  <thead>\n    <tr style=\"text-align: right;\">\n      <th></th>\n      <th>subject</th>\n      <th>ects</th>\n      <th>classtype</th>\n      <th>description</th>\n      <th>first_year</th>\n    </tr>\n  </thead>\n  <tbody>\n    <tr>\n      <th>39</th>\n      <td>Project: Coreforge</td>\n      <td>4</td>\n      <td>analiza kodu źródłowego, prezentacja, projekt ...</td>\n      <td>Celem projektu jest praktyczna nauka architekt...</td>\n      <td>False</td>\n    </tr>\n    <tr>\n      <th>66</th>\n      <td>Financial Services</td>\n      <td>5</td>\n      <td>Wykład, ćwiczenia</td>\n      <td>**Przedmiot prowadzony przez dr hab., prof. UW...</td>\n      <td>False</td>\n    </tr>\n    <tr>\n      <th>67</th>\n      <td>Course: Game Development in Unreal Engine 5</td>\n      <td>5</td>\n      <td>Wykład, indywidualny lub zespołowy projekt pro...</td>\n      <td>W przeciwieństwie do kursu Unity nie będę omaw...</td>\n      <td>False</td>\n    </tr>\n    <tr>\n      <th>91</th>\n      <td>Combinatorial Optimization under uncertainty</td>\n      <td>6</td>\n      <td>wykład</td>\n      <td>Rozważmy portal randkowy (nie tinder), w który...</td>\n      <td>False</td>\n    </tr>\n    <tr>\n      <th>172</th>\n      <td>Tutoring</td>\n      <td>0</td>\n      <td></td>\n      <td>Celem tutoringu jest czuwanie nad właściwą org...</td>\n      <td>True</td>\n    </tr>\n    <tr>\n      <th>200</th>\n      <td>Combinatorial optimization</td>\n      <td>6</td>\n      <td>* Ćwiczenia audytoryjne\\r\\n* Wykład monograficzny</td>\n      <td>**Program:**\\r\\n\\r\\n1.Matchingi.\\r\\n\\r\\nMatchi...</td>\n      <td>False</td>\n    </tr>\n    <tr>\n      <th>2056</th>\n      <td>Digital Image Processing</td>\n      <td>6</td>\n      <td>* lecture\\r\\n* programming lab\\r\\n* programmin...</td>\n      <td>Przedmiot może się odbyć w języku polskim lub ...</td>\n      <td>False</td>\n    </tr>\n    <tr>\n      <th>2326</th>\n      <td>Algebra</td>\n      <td>7</td>\n      <td>* Ćwiczenia audytoryjne\\r\\n* Wykład</td>\n      <td>**Program:**\\r\\n\\r\\n1. Przestrzenie liniowe. Z...</td>\n      <td>True</td>\n    </tr>\n    <tr>\n      <th>2328</th>\n      <td>Deep Learning (project)</td>\n      <td>6</td>\n      <td>* projekt programistyczny</td>\n      <td>Celem projektu jest doskonalenie umiejętności ...</td>\n      <td>False</td>\n    </tr>\n    <tr>\n      <th>2350</th>\n      <td>Artificial Intelligence</td>\n      <td>6</td>\n      <td>Wykład, prezentacja, rozwiązywanie zadań z kom...</td>\n      <td>Sztuczna inteligencja jest dziedziną budzącą e...</td>\n      <td>False</td>\n    </tr>\n    <tr>\n      <th>2430</th>\n      <td>From Mordor to Matrix. The Fantastic Political...</td>\n      <td>3</td>\n      <td>Wykład</td>\n      <td>* Przedmiot prowadzony przez dr. hab Bartosza ...</td>\n      <td>True</td>\n    </tr>\n    <tr>\n      <th>2450</th>\n      <td>Professional Practice</td>\n      <td>4</td>\n      <td>Realizacja zadań postawionych przez pracodawcę.</td>\n      <td>Zaliczenie praktyki zawodowej jest wymagane do...</td>\n      <td>False</td>\n    </tr>\n    <tr>\n      <th>2457</th>\n      <td>Mentoring for Data Science</td>\n      <td>0</td>\n      <td></td>\n      <td>A series of meetings with a teacher designated...</td>\n      <td>False</td>\n    </tr>\n    <tr>\n      <th>2458</th>\n      <td>Sport programming in practice</td>\n      <td>2</td>\n      <td></td>\n      <td>Na zajęciach studenci będą rozwiązywali zadani...</td>\n      <td>False</td>\n    </tr>\n    <tr>\n      <th>2459</th>\n      <td>Clone: Financial Services</td>\n      <td>3</td>\n      <td>Wykład, ćwiczenia</td>\n      <td>**Przedmiot prowadzony przez dr hab., prof. UW...</td>\n      <td>False</td>\n    </tr>\n    <tr>\n      <th>2464</th>\n      <td>Tutoring ISIM</td>\n      <td>0</td>\n      <td></td>\n      <td>Celem tutoringu jest czuwanie nad właściwą org...</td>\n      <td>True</td>\n    </tr>\n    <tr>\n      <th>2468</th>\n      <td>Seminar: Analysis of algorithmic problems</td>\n      <td>3</td>\n      <td></td>\n      <td>Uwaga: seminarium planujemy prowadzić (pod tak...</td>\n      <td>True</td>\n    </tr>\n    <tr>\n      <th>2469</th>\n      <td>Geometric Optimization</td>\n      <td>6</td>\n      <td></td>\n      <td>The course will be given by Sandip Banerjee.\\r...</td>\n      <td>False</td>\n    </tr>\n    <tr>\n      <th>2475</th>\n      <td>Diploma Project</td>\n      <td>4</td>\n      <td>Studenci prezentują wyniki etapów realizacji p...</td>\n      <td>W ramach przedmiotu studenci przygotowują prac...</td>\n      <td>False</td>\n    </tr>\n    <tr>\n      <th>2487</th>\n      <td>Object-oriented Software Development</td>\n      <td>6</td>\n      <td>* Pracownia programistyczna\\r\\n* Wykład\\r\\n\\r\\...</td>\n      <td>Wykład skierowany jest do przyszłych architekt...</td>\n      <td>False</td>\n    </tr>\n    <tr>\n      <th>2494</th>\n      <td>Project: Development of the Enrollment System</td>\n      <td>4</td>\n      <td>* Projekt programistyczny\\r\\n* Pracownia progr...</td>\n      <td>W ramach projektu grupa studentów rozwija istn...</td>\n      <td>False</td>\n    </tr>\n    <tr>\n      <th>2536</th>\n      <td>Seminar: Software Engineering</td>\n      <td>3</td>\n      <td>Prepared by students lectures</td>\n      <td>During Seminar Software Engineering Students  ...</td>\n      <td>False</td>\n    </tr>\n    <tr>\n      <th>2615</th>\n      <td>Digital logic</td>\n      <td>6</td>\n      <td>* Ćwiczenia audytoryjne\\r\\n* Pracownia program...</td>\n      <td>Wykład jest wprowadzeniem do projektowania ukł...</td>\n      <td>True</td>\n    </tr>\n    <tr>\n      <th>2620</th>\n      <td>Programming methodology</td>\n      <td>9</td>\n      <td>wykład, live coding, dyskusja, rozwiązywanie z...</td>\n      <td>Naszym celem jest przygotowanie studentów do u...</td>\n      <td>True</td>\n    </tr>\n    <tr>\n      <th>2626</th>\n      <td>Economic Policy Policy</td>\n      <td>3</td>\n      <td>Wykład</td>\n      <td>*Przedmiot prowadzony przez dr. Mirosława Stru...</td>\n      <td>False</td>\n    </tr>\n    <tr>\n      <th>2633</th>\n      <td>C++ course</td>\n      <td>5</td>\n      <td>Wykład, live coding, analiza programów dostarc...</td>\n      <td>**C++** to język programowania o charakterze o...</td>\n      <td>True</td>\n    </tr>\n    <tr>\n      <th>2646</th>\n      <td>Numerical Optimization</td>\n      <td>8</td>\n      <td>Lecture, problem solving in class, individual ...</td>\n      <td>_Mandatory course for Data Science._\\r\\n\\r\\nTh...</td>\n      <td>False</td>\n    </tr>\n    <tr>\n      <th>2651</th>\n      <td>Algorithms and Data Structures</td>\n      <td>9</td>\n      <td>wykład, rozwiązywanie zadań z komentowaniem, i...</td>\n      <td>Zajęcia do przedmiotu prowadzone są razem z za...</td>\n      <td>False</td>\n    </tr>\n    <tr>\n      <th>2652</th>\n      <td>Cryptography</td>\n      <td>6</td>\n      <td>wykład, wykład interaktywny, rozwiązywanie zad...</td>\n      <td>**Cel zajęć:**\\r\\n\\r\\nCelem wykładu jest zapoz...</td>\n      <td>False</td>\n    </tr>\n    <tr>\n      <th>2653</th>\n      <td>Neural Networks and Natural Language Processing</td>\n      <td>6</td>\n      <td>* Programming project\\r\\n* Programming laborat...</td>\n      <td>Neural Networks allow creation of programs tha...</td>\n      <td>False</td>\n    </tr>\n    <tr>\n      <th>2654</th>\n      <td>Computer networks</td>\n      <td>6</td>\n      <td>* wykład \\r\\n* ćwiczenia warsztatowe\\r\\n* rozw...</td>\n      <td>Wykład jest wstępem do szerokiej tematyki siec...</td>\n      <td>False</td>\n    </tr>\n    <tr>\n      <th>2655</th>\n      <td>Game Testing</td>\n      <td>6</td>\n      <td>wykłady, wykłady interaktywne, nadzorowane roz...</td>\n      <td>Nie naprawimy ułomności natury ludzkiej. Progr...</td>\n      <td>False</td>\n    </tr>\n    <tr>\n      <th>2656</th>\n      <td>Theoretical Foundations of Programming Languages</td>\n      <td>6</td>\n      <td>* Wykład\\r\\n* Ćwiczenia</td>\n      <td>Programy i języki programowania (funkcyjne) bę...</td>\n      <td>False</td>\n    </tr>\n    <tr>\n      <th>2657</th>\n      <td>Advanced Distributed Algorithms</td>\n      <td>6</td>\n      <td>* Ćwiczenia audytoryjne\\r\\n* Wykład</td>\n      <td>Obliczenia rozproszone stanowią obecnie natura...</td>\n      <td>False</td>\n    </tr>\n    <tr>\n      <th>2658</th>\n      <td>Seminar: Computer Graphics</td>\n      <td>3</td>\n      <td>* samodzielna praca\\r\\n* przygotowanie prezent...</td>\n      <td>Celem seminarium jest przegląd ciekawszych pra...</td>\n      <td>False</td>\n    </tr>\n    <tr>\n      <th>2659</th>\n      <td>Clone: Ethics for the thinking</td>\n      <td>3</td>\n      <td>Wykład, dyskusja</td>\n      <td>Na co dzień etyka nie jest ci potrzebna. Wiesz...</td>\n      <td>False</td>\n    </tr>\n    <tr>\n      <th>2660</th>\n      <td>Scala in Practice</td>\n      <td>5</td>\n      <td>* Lectures (theory &amp; live-coding)\\r\\n* Program...</td>\n      <td>Scala is currently one of the most popular pro...</td>\n      <td>False</td>\n    </tr>\n    <tr>\n      <th>2661</th>\n      <td>Design and development of .NET Windows Applica...</td>\n      <td>5</td>\n      <td>* Pracownia programistyczna\\r\\n* Wykład\\r\\n\\r\\...</td>\n      <td>Celem wykładu jest przedstawienie systemu oper...</td>\n      <td>False</td>\n    </tr>\n    <tr>\n      <th>2662</th>\n      <td>Seminar: Software Testing</td>\n      <td>3</td>\n      <td>- samodzielny wybór i lektura materiałów,\\r\\n-...</td>\n      <td>Seminarium dotyczy metod, technik, norm, narzę...</td>\n      <td>False</td>\n    </tr>\n    <tr>\n      <th>2663</th>\n      <td>Object-oriented programming</td>\n      <td>6</td>\n      <td>* wykład\\r\\n* prezentacja rozwiązań i live cod...</td>\n      <td>Celem zajęć jest poznanie jednego z najpowszec...</td>\n      <td>True</td>\n    </tr>\n    <tr>\n      <th>2664</th>\n      <td>Design of database applications</td>\n      <td>5</td>\n      <td>* Pracownia programistyczna\\r\\n* Wykład</td>\n      <td>Dobrze zaprojektowana aplikacja przetwarzająca...</td>\n      <td>False</td>\n    </tr>\n    <tr>\n      <th>2666</th>\n      <td>Advanced Data Mining</td>\n      <td>6</td>\n      <td>samodzielne czytanie literatury, prezentacja, ...</td>\n      <td>_**UWAGA**: W przypadku takiej konieczności, w...</td>\n      <td>False</td>\n    </tr>\n    <tr>\n      <th>2667</th>\n      <td>Ethics for the thinking</td>\n      <td>5</td>\n      <td>Wykład, dyskusja</td>\n      <td>Na co dzień etyka nie jest ci potrzebna. Wiesz...</td>\n      <td>False</td>\n    </tr>\n    <tr>\n      <th>2668</th>\n      <td>Warsztaty: Jak założyć firmę?</td>\n      <td>3</td>\n      <td></td>\n      <td>Zajęcia będą miały formę warsztatów. Uczestnic...</td>\n      <td>False</td>\n    </tr>\n    <tr>\n      <th>2669</th>\n      <td>Formal Languages and Computational Complexity</td>\n      <td>9</td>\n      <td>Wykład i ćwiczenia</td>\n      <td>Program przedmiotu obejmuje zagadnienia związa...</td>\n      <td>False</td>\n    </tr>\n    <tr>\n      <th>2670</th>\n      <td>Introduction to databases</td>\n      <td>6</td>\n      <td>Wykład, wykład interaktywny, samodzielne rozwi...</td>\n      <td>Celem wykładu jest omówienie zasad konstrukcji...</td>\n      <td>False</td>\n    </tr>\n    <tr>\n      <th>2671</th>\n      <td>Curves and Surfaces in Computer Graphics</td>\n      <td>6</td>\n      <td>* wykład,\\r\\n* wykład interaktywny,\\r\\n* ćwicz...</td>\n      <td>Krzywe i powierzchnie to podstawowe obiekty gr...</td>\n      <td>False</td>\n    </tr>\n    <tr>\n      <th>2672</th>\n      <td>Linux system administration</td>\n      <td>5</td>\n      <td>* Wykład\\r\\n* Pracownia komputerowa, w tym pre...</td>\n      <td>Celem kursu jest rozwinięcie u uczestników pra...</td>\n      <td>False</td>\n    </tr>\n    <tr>\n      <th>2673</th>\n      <td>Probability and Statistics</td>\n      <td>6</td>\n      <td>* Wykład\\r\\n* Rozwiązywanie zadań z komentowan...</td>\n      <td>**Program:**\\r\\n\\r\\n  1. Pojęcie prawdopodobie...</td>\n      <td>False</td>\n    </tr>\n    <tr>\n      <th>2674</th>\n      <td>Computer Architecture for Programmers</td>\n      <td>8</td>\n      <td>Wykład, rozwiązywanie zadań z komentowaniem, i...</td>\n      <td>Celem przedmiotu jest wprowadzenie słuchaczy d...</td>\n      <td>False</td>\n    </tr>\n    <tr>\n      <th>2675</th>\n      <td>Project: Competitive Artificial Intelligence</td>\n      <td>4</td>\n      <td>- grupowy projekt programistyczny\\r\\n- prezent...</td>\n      <td>W ramach projektu, kilkuosobowe grupy będą pro...</td>\n      <td>False</td>\n    </tr>\n    <tr>\n      <th>2676</th>\n      <td>Project: Machine Learning for Temporal Data Mi...</td>\n      <td>4</td>\n      <td>zespołowy projekt programistyczny z elementami...</td>\n      <td>Celem projektu jest opracowanie/wykorzystanie/...</td>\n      <td>False</td>\n    </tr>\n    <tr>\n      <th>2677</th>\n      <td>Spectral Graph Theory</td>\n      <td>6</td>\n      <td></td>\n      <td>We would explore the field of Spectral Graph T...</td>\n      <td>False</td>\n    </tr>\n  </tbody>\n</table>\n</div>"
     },
     "execution_count": 36,
     "metadata": {},
     "output_type": "execute_result"
    }
   ],
   "source": [
    "winter_courses_processed"
   ],
   "metadata": {
    "collapsed": false,
    "pycharm": {
     "name": "#%%\n"
    }
   }
  },
  {
   "cell_type": "code",
   "execution_count": 37,
   "outputs": [],
   "source": [
    "winter_courses_processed.loc[:, 'term'] = 'winter'\n",
    "summer_courses_processed.loc[:, 'term'] = 'summer'\n",
    "proposals_processed.loc[:, 'term'] = pd.NA"
   ],
   "metadata": {
    "collapsed": false,
    "pycharm": {
     "name": "#%%\n"
    }
   }
  },
  {
   "cell_type": "code",
   "execution_count": 38,
   "outputs": [],
   "source": [
    "winter_courses_processed.loc[:, 'offered'] = True\n",
    "summer_courses_processed.loc[:, 'offered'] = True\n",
    "proposals_processed.loc[:, 'offered'] = False"
   ],
   "metadata": {
    "collapsed": false,
    "pycharm": {
     "name": "#%%\n"
    }
   }
  },
  {
   "cell_type": "code",
   "execution_count": 41,
   "outputs": [],
   "source": [
    "final_pdf = pd.concat([winter_courses_processed, summer_courses_processed, proposals_processed])"
   ],
   "metadata": {
    "collapsed": false,
    "pycharm": {
     "name": "#%%\n"
    }
   }
  },
  {
   "cell_type": "code",
   "execution_count": 42,
   "outputs": [
    {
     "data": {
      "text/plain": "Index(['subject', 'ects', 'classtype', 'description', 'first_year', 'term',\n       'offered'],\n      dtype='object')"
     },
     "execution_count": 42,
     "metadata": {},
     "output_type": "execute_result"
    }
   ],
   "source": [
    "final_pdf.columns"
   ],
   "metadata": {
    "collapsed": false,
    "pycharm": {
     "name": "#%%\n"
    }
   }
  },
  {
   "cell_type": "code",
   "execution_count": 44,
   "outputs": [],
   "source": [
    "final_pdf = final_pdf[['subject', 'ects', 'classtype', 'term', 'offered', 'first_year', 'description']]"
   ],
   "metadata": {
    "collapsed": false,
    "pycharm": {
     "name": "#%%\n"
    }
   }
  },
  {
   "cell_type": "code",
   "execution_count": 48,
   "outputs": [],
   "source": [
    "final_pdf.to_csv('../data/courses_db/courses.csv', index=False)"
   ],
   "metadata": {
    "collapsed": false,
    "pycharm": {
     "name": "#%%\n"
    }
   }
  },
  {
   "cell_type": "code",
   "execution_count": 47,
   "outputs": [
    {
     "data": {
      "text/plain": "                                           subject  ects  \\\n39                              Project: Coreforge     4   \n66                              Financial Services     5   \n67     Course: Game Development in Unreal Engine 5     5   \n91    Combinatorial Optimization under uncertainty     6   \n172                                       Tutoring     0   \n...                                            ...   ...   \n2694                        Functional Programming     6   \n2698                        Numerical analysis (M)    12   \n2702        Efficient Implementation of Algorithms     4   \n2703                    Front-end apps development     5   \n2707                      Computational complexity     6   \n\n                                              classtype    term  offered  \\\n39    analiza kodu źródłowego, prezentacja, projekt ...  winter     True   \n66                                    Wykład, ćwiczenia  winter     True   \n67    Wykład, indywidualny lub zespołowy projekt pro...  winter     True   \n91                                               wykład  winter     True   \n172                                                      winter     True   \n...                                                 ...     ...      ...   \n2694            * Wykład\\r\\n* Pracownia programistyczna     NaN    False   \n2698  * wykład,\\r\\n* wykład interaktywny,\\r\\n* preze...     NaN    False   \n2702  Indywidualne rozwiązywanie zadań, prezentacja ...     NaN    False   \n2703  Wykład interaktywny, live coding, dyskusja, in...     NaN    False   \n2707  wykład, rozwiązywanie zadań z komentowaniem, i...     NaN    False   \n\n      first_year                                        description  \n39         False  Celem projektu jest praktyczna nauka architekt...  \n66         False  **Przedmiot prowadzony przez dr hab., prof. UW...  \n67         False  W przeciwieństwie do kursu Unity nie będę omaw...  \n91         False  Rozważmy portal randkowy (nie tinder), w który...  \n172         True  Celem tutoringu jest czuwanie nad właściwą org...  \n...          ...                                                ...  \n2694       False  _Do r. akad. 2016/17 Programowanie funkcyjne b...  \n2698       False  Celem zajęć jest przedstawienie podstawowych m...  \n2702       False  Każde spotkanie ma dwie części. Podczas pierws...  \n2703       False  Choć frontend jest nieodłączną częścią większo...  \n2707       False  Celem wykładu jest przedstawienie kluczowych k...  \n\n[349 rows x 7 columns]",
      "text/html": "<div>\n<style scoped>\n    .dataframe tbody tr th:only-of-type {\n        vertical-align: middle;\n    }\n\n    .dataframe tbody tr th {\n        vertical-align: top;\n    }\n\n    .dataframe thead th {\n        text-align: right;\n    }\n</style>\n<table border=\"1\" class=\"dataframe\">\n  <thead>\n    <tr style=\"text-align: right;\">\n      <th></th>\n      <th>subject</th>\n      <th>ects</th>\n      <th>classtype</th>\n      <th>term</th>\n      <th>offered</th>\n      <th>first_year</th>\n      <th>description</th>\n    </tr>\n  </thead>\n  <tbody>\n    <tr>\n      <th>39</th>\n      <td>Project: Coreforge</td>\n      <td>4</td>\n      <td>analiza kodu źródłowego, prezentacja, projekt ...</td>\n      <td>winter</td>\n      <td>True</td>\n      <td>False</td>\n      <td>Celem projektu jest praktyczna nauka architekt...</td>\n    </tr>\n    <tr>\n      <th>66</th>\n      <td>Financial Services</td>\n      <td>5</td>\n      <td>Wykład, ćwiczenia</td>\n      <td>winter</td>\n      <td>True</td>\n      <td>False</td>\n      <td>**Przedmiot prowadzony przez dr hab., prof. UW...</td>\n    </tr>\n    <tr>\n      <th>67</th>\n      <td>Course: Game Development in Unreal Engine 5</td>\n      <td>5</td>\n      <td>Wykład, indywidualny lub zespołowy projekt pro...</td>\n      <td>winter</td>\n      <td>True</td>\n      <td>False</td>\n      <td>W przeciwieństwie do kursu Unity nie będę omaw...</td>\n    </tr>\n    <tr>\n      <th>91</th>\n      <td>Combinatorial Optimization under uncertainty</td>\n      <td>6</td>\n      <td>wykład</td>\n      <td>winter</td>\n      <td>True</td>\n      <td>False</td>\n      <td>Rozważmy portal randkowy (nie tinder), w który...</td>\n    </tr>\n    <tr>\n      <th>172</th>\n      <td>Tutoring</td>\n      <td>0</td>\n      <td></td>\n      <td>winter</td>\n      <td>True</td>\n      <td>True</td>\n      <td>Celem tutoringu jest czuwanie nad właściwą org...</td>\n    </tr>\n    <tr>\n      <th>...</th>\n      <td>...</td>\n      <td>...</td>\n      <td>...</td>\n      <td>...</td>\n      <td>...</td>\n      <td>...</td>\n      <td>...</td>\n    </tr>\n    <tr>\n      <th>2694</th>\n      <td>Functional Programming</td>\n      <td>6</td>\n      <td>* Wykład\\r\\n* Pracownia programistyczna</td>\n      <td>NaN</td>\n      <td>False</td>\n      <td>False</td>\n      <td>_Do r. akad. 2016/17 Programowanie funkcyjne b...</td>\n    </tr>\n    <tr>\n      <th>2698</th>\n      <td>Numerical analysis (M)</td>\n      <td>12</td>\n      <td>* wykład,\\r\\n* wykład interaktywny,\\r\\n* preze...</td>\n      <td>NaN</td>\n      <td>False</td>\n      <td>False</td>\n      <td>Celem zajęć jest przedstawienie podstawowych m...</td>\n    </tr>\n    <tr>\n      <th>2702</th>\n      <td>Efficient Implementation of Algorithms</td>\n      <td>4</td>\n      <td>Indywidualne rozwiązywanie zadań, prezentacja ...</td>\n      <td>NaN</td>\n      <td>False</td>\n      <td>False</td>\n      <td>Każde spotkanie ma dwie części. Podczas pierws...</td>\n    </tr>\n    <tr>\n      <th>2703</th>\n      <td>Front-end apps development</td>\n      <td>5</td>\n      <td>Wykład interaktywny, live coding, dyskusja, in...</td>\n      <td>NaN</td>\n      <td>False</td>\n      <td>False</td>\n      <td>Choć frontend jest nieodłączną częścią większo...</td>\n    </tr>\n    <tr>\n      <th>2707</th>\n      <td>Computational complexity</td>\n      <td>6</td>\n      <td>wykład, rozwiązywanie zadań z komentowaniem, i...</td>\n      <td>NaN</td>\n      <td>False</td>\n      <td>False</td>\n      <td>Celem wykładu jest przedstawienie kluczowych k...</td>\n    </tr>\n  </tbody>\n</table>\n<p>349 rows × 7 columns</p>\n</div>"
     },
     "execution_count": 47,
     "metadata": {},
     "output_type": "execute_result"
    }
   ],
   "source": [
    "final_pdf"
   ],
   "metadata": {
    "collapsed": false,
    "pycharm": {
     "name": "#%%\n"
    }
   }
  },
  {
   "cell_type": "code",
   "execution_count": null,
   "outputs": [],
   "source": [],
   "metadata": {
    "collapsed": false,
    "pycharm": {
     "name": "#%%\n"
    }
   }
  }
 ],
 "metadata": {
  "kernelspec": {
   "display_name": "Python 3",
   "language": "python",
   "name": "python3"
  },
  "language_info": {
   "codemirror_mode": {
    "name": "ipython",
    "version": 2
   },
   "file_extension": ".py",
   "mimetype": "text/x-python",
   "name": "python",
   "nbconvert_exporter": "python",
   "pygments_lexer": "ipython2",
   "version": "2.7.6"
  }
 },
 "nbformat": 4,
 "nbformat_minor": 0
}